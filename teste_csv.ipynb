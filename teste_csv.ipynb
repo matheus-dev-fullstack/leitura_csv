{
  "cells": [
    {
      "cell_type": "markdown",
      "metadata": {
        "id": "SmoHgt-lwkpD"
      },
      "source": [
        "---"
      ]
    },
    {
      "cell_type": "code",
      "execution_count": 1,
      "metadata": {
        "colab": {
          "base_uri": "https://localhost:8080/"
        },
        "id": "daMf-xaXqKs2",
        "outputId": "c7d27663-5b5f-468b-86c8-7ffd97d3615f"
      },
      "outputs": [
        {
          "name": "stdout",
          "output_type": "stream",
          "text": [
            "Writing carros.csv\n"
          ]
        }
      ],
      "source": [
        "%%writefile carros.csv\n",
        "id,valor_venda,valor_manutencao,portas,pessoas,porta_malas\n",
        "1,vhigh,med,2,2,small\n",
        "2,med,vhigh,2,2,small\n",
        "3,low,vhigh,2,2,small\n",
        "4,low,high,2,2,small\n",
        "5,low,high,2,2,small\n",
        "6,low,high,4,4,big\n",
        "7,low,high,4,4,big\n",
        "8,low,med,2,2,small\n",
        "9,low,med,2,2,small\n",
        "10,low,med,2,2,small\n",
        "11,low,med,4,4,big\n",
        "12,low,low,2,2,small\n",
        "13,low,low,4,4,small\n",
        "14,low,low,4,4,med"
      ]
    },
    {
      "cell_type": "markdown",
      "metadata": {
        "id": "X0Z2PhbCrTz1"
      },
      "source": [
        "* **musica.txt**: arquivo texto com a letra da música Roda Viva do Chico Buarque."
      ]
    },
    {
      "cell_type": "code",
      "execution_count": 19,
      "metadata": {
        "colab": {
          "base_uri": "https://localhost:8080/"
        },
        "id": "m7Ge2rggrU73",
        "outputId": "56a77bc4-28d6-4bc0-c948-d15bd042b5d7"
      },
      "outputs": [
        {
          "name": "stdout",
          "output_type": "stream",
          "text": [
            "Overwriting musica.txt\n"
          ]
        }
      ],
      "source": [
        "%%writefile musica.txt\n",
        "Roda Viva\n",
        "Chico Buarque\n",
        "\n",
        "Tem dias que a gente se sente\n",
        "Como quem partiu ou morreu\n",
        "A gente estancou de repente\n",
        "Ou foi o mundo então que cresceu\n",
        "A gente quer ter voz ativa\n",
        "No nosso destino mandar\n",
        "Mas eis que chega a roda viva\n",
        "E carrega o destino pra lá\n",
        "\n",
        "Roda mundo, roda-gigante\n",
        "Roda moinho, roda pião\n",
        "\n",
        "O tempo rodou num instante\n",
        "Nas voltas do meu coração\n",
        "A gente vai contra a corrente\n",
        "Até não poder resistir\n",
        "Na volta do barco é que sente\n",
        "O quanto deixou de cumprir\n",
        "Faz tempo que a gente cultiva\n",
        "A mais linda roseira que há\n",
        "Mas eis que chega a roda viva\n",
        "E carrega a roseira pra lá\n",
        "\n",
        "Roda mundo, roda-gigante\n",
        "Roda moinho, roda pião"
      ]
    },
    {
      "cell_type": "markdown",
      "metadata": {
        "id": "zMN1Q3jdwoJm"
      },
      "source": [
        "---"
      ]
    },
    {
      "cell_type": "markdown",
      "metadata": {
        "id": "U4S19ZvHsPcE"
      },
      "source": [
        "## 1\\. Funções para arquivo csv"
      ]
    },
    {
      "cell_type": "code",
      "execution_count": null,
      "metadata": {},
      "outputs": [],
      "source": [
        "dados = "
      ]
    },
    {
      "cell_type": "markdown",
      "metadata": {
        "id": "Mcf3mkOrtHzK"
      },
      "source": [
        "Complete a função abaixo para extrair uma coluna do arquivo csv em uma lista. Os elementos devem ter o tipo de dado correto."
      ]
    },
    {
      "cell_type": "code",
      "execution_count": 25,
      "metadata": {
        "colab": {
          "base_uri": "https://localhost:8080/"
        },
        "id": "W-1PAg7Ctt7i",
        "outputId": "4f82f15a-261b-4009-e85a-0b8ba11f1e6c"
      },
      "outputs": [
        {
          "ename": "UnicodeDecodeError",
          "evalue": "'utf-8' codec can't decode bytes in position 15-16: invalid continuation byte",
          "output_type": "error",
          "traceback": [
            "\u001b[1;31m---------------------------------------------------------------------------\u001b[0m",
            "\u001b[1;31mUnicodeDecodeError\u001b[0m                        Traceback (most recent call last)",
            "Cell \u001b[1;32mIn[25], line 26\u001b[0m\n\u001b[0;32m     23\u001b[0m   \u001b[38;5;28;01mreturn\u001b[39;00m(coluna)\n\u001b[0;32m     25\u001b[0m \u001b[38;5;66;03m# extrai_coluna_csv(nome_arquivo='lojas2.csv', indice_coluna=1, tipo_dado='int')\u001b[39;00m\n\u001b[1;32m---> 26\u001b[0m \u001b[43mextrai_coluna_csv\u001b[49m\u001b[43m(\u001b[49m\u001b[43mnome_arquivo\u001b[49m\u001b[38;5;241;43m=\u001b[39;49m\u001b[38;5;124;43m'\u001b[39;49m\u001b[38;5;124;43mvendas.xlsx\u001b[39;49m\u001b[38;5;124;43m'\u001b[39;49m\u001b[43m,\u001b[49m\u001b[43m \u001b[49m\u001b[43mindice_coluna\u001b[49m\u001b[38;5;241;43m=\u001b[39;49m\u001b[38;5;241;43m1\u001b[39;49m\u001b[43m,\u001b[49m\u001b[43m \u001b[49m\u001b[43mtipo_dado\u001b[49m\u001b[38;5;241;43m=\u001b[39;49m\u001b[38;5;124;43m'\u001b[39;49m\u001b[38;5;124;43mint\u001b[39;49m\u001b[38;5;124;43m'\u001b[39;49m\u001b[43m)\u001b[49m\n\u001b[0;32m     27\u001b[0m \u001b[38;5;66;03m# extrai_coluna_csv(nome_arquivo='carros.csv', indice_coluna=3, tipo_dado='int')\u001b[39;00m\n\u001b[0;32m     28\u001b[0m \n\u001b[0;32m     29\u001b[0m \u001b[38;5;66;03m# extrai_coluna_csv()\u001b[39;00m\n\u001b[0;32m     30\u001b[0m   \u001b[38;5;66;03m# leia o arquivo com o comando 'with' utilizando o parametro 'nome_arquivo'\u001b[39;00m\n\u001b[0;32m     31\u001b[0m   \u001b[38;5;66;03m# extraia a coluna do arquivo utilizando o parametro 'indice_coluna'\u001b[39;00m\n\u001b[0;32m     32\u001b[0m   \u001b[38;5;66;03m# use a estrutura de decisão if/elif/else para fazer a conversão do tipo de dados utilizando o parametro 'tipo_dado'\u001b[39;00m\n",
            "Cell \u001b[1;32mIn[25], line 6\u001b[0m, in \u001b[0;36mextrai_coluna_csv\u001b[1;34m(nome_arquivo, indice_coluna, tipo_dado)\u001b[0m\n\u001b[0;32m      3\u001b[0m coluna \u001b[38;5;241m=\u001b[39m []\n\u001b[0;32m      5\u001b[0m \u001b[38;5;28;01mwith\u001b[39;00m \u001b[38;5;28mopen\u001b[39m(file\u001b[38;5;241m=\u001b[39m nome_arquivo, mode\u001b[38;5;241m=\u001b[39m\u001b[38;5;124m'\u001b[39m\u001b[38;5;124mr\u001b[39m\u001b[38;5;124m'\u001b[39m, encoding\u001b[38;5;241m=\u001b[39m\u001b[38;5;124m'\u001b[39m\u001b[38;5;124mutf8\u001b[39m\u001b[38;5;124m'\u001b[39m) \u001b[38;5;28;01mas\u001b[39;00m lojas:\n\u001b[1;32m----> 6\u001b[0m   linha \u001b[38;5;241m=\u001b[39m \u001b[43mlojas\u001b[49m\u001b[38;5;241;43m.\u001b[39;49m\u001b[43mreadline\u001b[49m\u001b[43m(\u001b[49m\u001b[43m)\u001b[49m\n\u001b[0;32m      7\u001b[0m   linha \u001b[38;5;241m=\u001b[39m lojas\u001b[38;5;241m.\u001b[39mreadline()\n\u001b[0;32m      9\u001b[0m   \u001b[38;5;28;01mwhile\u001b[39;00m linha:\n",
            "File \u001b[1;32m<frozen codecs>:322\u001b[0m, in \u001b[0;36mdecode\u001b[1;34m(self, input, final)\u001b[0m\n",
            "\u001b[1;31mUnicodeDecodeError\u001b[0m: 'utf-8' codec can't decode bytes in position 15-16: invalid continuation byte"
          ]
        }
      ],
      "source": [
        "def extrai_coluna_csv(nome_arquivo: str, indice_coluna: int, tipo_dado: str):\n",
        "\n",
        "  coluna = []\n",
        "\n",
        "  with open(file= nome_arquivo, mode='r', encoding='utf8') as lojas:\n",
        "    linha = lojas.readline()\n",
        "    linha = lojas.readline()\n",
        "\n",
        "    while linha:\n",
        "      linha_separada = linha.split(sep=',')\n",
        "      conteudo = linha_separada[indice_coluna]\n",
        "\n",
        "      # if tipo_dado == 'int':\n",
        "      #   conteudo = int(conteudo)\n",
        "      # elif tipo_dado == 'str':\n",
        "      #   conteudo = str(conteudo)\n",
        "      # else:\n",
        "      #   print(\"Parâmetro 'tipo_dado' inválido\")\n",
        "\n",
        "      coluna.append(conteudo)\n",
        "      linha = lojas.readline()\n",
        "\n",
        "  return(coluna)\n",
        "\n",
        "# extrai_coluna_csv(nome_arquivo='lojas2.csv', indice_coluna=1, tipo_dado='int')\n",
        "extrai_coluna_csv(nome_arquivo='vendas.xlsx', indice_coluna=1, tipo_dado='int')\n",
        "# extrai_coluna_csv(nome_arquivo='carros.csv', indice_coluna=3, tipo_dado='int')\n",
        "\n",
        "# extrai_coluna_csv()\n",
        "  # leia o arquivo com o comando 'with' utilizando o parametro 'nome_arquivo'\n",
        "  # extraia a coluna do arquivo utilizando o parametro 'indice_coluna'\n",
        "  # use a estrutura de decisão if/elif/else para fazer a conversão do tipo de dados utilizando o parametro 'tipo_dado'"
      ]
    },
    {
      "cell_type": "markdown",
      "metadata": {},
      "source": [
        "Ler a linha determinada:"
      ]
    },
    {
      "cell_type": "code",
      "execution_count": 21,
      "metadata": {},
      "outputs": [
        {
          "name": "stdout",
          "output_type": "stream",
          "text": [
            "['Usaflex', 'Igrejinha', '12%', '10.000.000']\n"
          ]
        }
      ],
      "source": [
        "import re\n",
        "def extrai_linha_csv(nome_arquivo: str, numero_linha: int):\n",
        "    with open(file=nome_arquivo, mode='r', encoding='utf8') as lojas:\n",
        "        linhas = lojas.readlines()\n",
        "\n",
        "        if numero_linha < len(linhas):\n",
        "            linha = linhas[numero_linha].strip()\n",
        "            \n",
        "            linha_separada = re.split(r'[;,]', linha)\n",
        "\n",
        "            return linha_separada\n",
        "        else:\n",
        "            print(f\"Erro: O arquivo contém apenas {len(linhas)} linhas.\")\n",
        "            return None\n",
        "\n",
        "linha_extraida = extrai_linha_csv(nome_arquivo='lojas2.csv', numero_linha=2)\n",
        "print(linha_extraida)"
      ]
    },
    {
      "cell_type": "markdown",
      "metadata": {
        "id": "qCbQF6jru_01"
      },
      "source": [
        "Você pode testar a função com os códigos abaixo."
      ]
    },
    {
      "cell_type": "code",
      "execution_count": 16,
      "metadata": {
        "colab": {
          "base_uri": "https://localhost:8080/"
        },
        "id": "Rl-EYdySu90s",
        "outputId": "90717574-e9c5-4bec-8cbc-22c446a1b3cc"
      },
      "outputs": [
        {
          "name": "stdout",
          "output_type": "stream",
          "text": [
            "['vhigh', 'med', 'low', 'low', 'low', 'low', 'low', 'low', 'low', 'low', 'low', 'low', 'low', 'low']\n"
          ]
        }
      ],
      "source": [
        "# extrair a coluna valor_venda\n",
        "valor_venda = extrai_coluna_csv(nome_arquivo='./carros.csv', indice_coluna=1, tipo_dado='str')\n",
        "print(valor_venda) # deve retornar ['vhigh', 'med', 'low', ...]"
      ]
    },
    {
      "cell_type": "code",
      "execution_count": 17,
      "metadata": {
        "colab": {
          "base_uri": "https://localhost:8080/"
        },
        "id": "hvD-zzwDwboD",
        "outputId": "4f481876-74e4-46a7-a0de-39f76235c173"
      },
      "outputs": [
        {
          "name": "stdout",
          "output_type": "stream",
          "text": [
            "[2, 2, 2, 2, 2, 4, 4, 2, 2, 2, 4, 2, 4, 4]\n"
          ]
        }
      ],
      "source": [
        "# extrair a coluna pessoas\n",
        "pessoas = extrai_coluna_csv(nome_arquivo='./carros.csv', indice_coluna=4, tipo_dado='int')\n",
        "print(pessoas) # deve retornar [2, 2, 2, ...]"
      ]
    },
    {
      "cell_type": "markdown",
      "metadata": {
        "id": "QTS5-sSbs4ie"
      },
      "source": [
        "---"
      ]
    },
    {
      "cell_type": "markdown",
      "metadata": {
        "id": "sebqs6uztCH4"
      },
      "source": [
        "## 2\\. Funções para arquivo txt"
      ]
    },
    {
      "cell_type": "markdown",
      "metadata": {
        "id": "IFVBGkNhzB3P"
      },
      "source": [
        "Complete a função abaixo para extrair uma as palavras de uma linha do arquivo txt em uma lista."
      ]
    },
    {
      "cell_type": "code",
      "execution_count": 27,
      "metadata": {
        "id": "ewrNqMtczWZJ"
      },
      "outputs": [],
      "source": [
        "def extrai_linha_txt(nome_arquivo: str, numero_linha: int):\n",
        "\n",
        "  palavras_linha = []\n",
        "\n",
        "  with open(file=nome_arquivo, mode='r', encoding='utf8') as texto:\n",
        "    linhas = texto.readlines()\n",
        "    while linhas:\n",
        "      linha = linhas[numero_linha]\n",
        "      palavras_linha = linha.split(\" \")\n",
        "      linhas = texto.readlines()\n",
        "\n",
        "    return palavras_linha\n",
        "\n",
        "  # leia o arquivo com o comando 'with' utilizando o parametro 'nome_arquivo'\n",
        "  # extraia a linha do arquivo utilizando o parametro 'numero_linha'\n",
        "  # quebre a linha em palavras com o comando split, note que o separador é um espaço ' '\n",
        "  # return palavras_linha\n",
        "\n",
        "# extrai_linha_txt(nome_arquivo='./musica.txt', numero_linha=0)"
      ]
    },
    {
      "cell_type": "markdown",
      "metadata": {
        "id": "Qz2UwipIz0t2"
      },
      "source": [
        "Você pode testar a função com os códigos abaixo."
      ]
    },
    {
      "cell_type": "code",
      "execution_count": 29,
      "metadata": {
        "colab": {
          "base_uri": "https://localhost:8080/"
        },
        "id": "_Wxp43qqz1V2",
        "outputId": "580f15f9-23d9-495e-fb67-6343fb0f66d2"
      },
      "outputs": [
        {
          "name": "stdout",
          "output_type": "stream",
          "text": [
            "['E', 'carrega', 'o', 'destino', 'pra', 'lá\\n']\n"
          ]
        }
      ],
      "source": [
        "linha10 = extrai_linha_txt(nome_arquivo='./musica.txt', numero_linha=10)\n",
        "print(linha10) # deve retornar ['Mas', 'eis', 'que', 'chega', 'a', 'roda', 'viva']"
      ]
    },
    {
      "cell_type": "markdown",
      "metadata": {
        "id": "Fo9qTjietCH6"
      },
      "source": [
        "---"
      ]
    }
  ],
  "metadata": {
    "colab": {
      "provenance": []
    },
    "kernelspec": {
      "display_name": "Python 3",
      "name": "python3"
    },
    "language_info": {
      "codemirror_mode": {
        "name": "ipython",
        "version": 3
      },
      "file_extension": ".py",
      "mimetype": "text/x-python",
      "name": "python",
      "nbconvert_exporter": "python",
      "pygments_lexer": "ipython3",
      "version": "3.12.5"
    }
  },
  "nbformat": 4,
  "nbformat_minor": 0
}
